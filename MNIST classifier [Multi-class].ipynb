{
 "cells": [
  {
   "cell_type": "code",
   "execution_count": null,
   "id": "ee2e0b61",
   "metadata": {},
   "outputs": [],
   "source": [
    "# Importing the required Libraries\n",
    "from sklearn.datasets import fetch_openml\n",
    "import matplotlib.pyplot as plt\n",
    "import numpy as np\n",
    "import pandas as pd\n",
    "import matplotlib\n",
    "from sklearn.model_selection import cross_val_score, cross_val_predict\n",
    "from sklearn.metrics import accuracy_score,f1_score,confusion_matrix\n",
    "from sklearn.ensemble import RandomForestClassifier\n",
    "from sklearn.neighbors import KNeighborsClassifier\n",
    "import cv2"
   ]
  },
  {
   "cell_type": "markdown",
   "id": "5f8adbad",
   "metadata": {},
   "source": [
    "# Fetching Dataset"
   ]
  },
  {
   "cell_type": "code",
   "execution_count": null,
   "id": "c082ada8",
   "metadata": {},
   "outputs": [],
   "source": [
    "mnist = fetch_openml('mnist_784')"
   ]
  },
  {
   "cell_type": "code",
   "execution_count": null,
   "id": "85d88bf5",
   "metadata": {},
   "outputs": [],
   "source": [
    "# Extracting Data and target\n",
    "x, y = np.array(mnist['data']), np.array(mnist['target'])"
   ]
  },
  {
   "cell_type": "code",
   "execution_count": null,
   "id": "252ebced",
   "metadata": {},
   "outputs": [],
   "source": [
    "# Shuffling the dataset\n",
    "shuffle_index = np.random.permutation(70000)\n",
    "x, y = x[shuffle_index], y[shuffle_index]"
   ]
  },
  {
   "cell_type": "code",
   "execution_count": null,
   "id": "51c7892f",
   "metadata": {},
   "outputs": [],
   "source": [
    "# Train-test split\n",
    "x_train, x_test = x[:60000], x[60000:]\n",
    "y_train, y_test = y[:60000].astype(int), y[60000:].astype(int)"
   ]
  },
  {
   "cell_type": "markdown",
   "id": "1c06b6b5",
   "metadata": {},
   "source": [
    "# Training the model"
   ]
  },
  {
   "cell_type": "code",
   "execution_count": null,
   "id": "6ea47af9",
   "metadata": {
    "scrolled": true
   },
   "outputs": [],
   "source": [
    "# Random Forest\n",
    "clf1 = RandomForestClassifier()\n",
    "clf1.fit(x_train, y_train)"
   ]
  },
  {
   "cell_type": "code",
   "execution_count": null,
   "id": "bc175a56",
   "metadata": {},
   "outputs": [],
   "source": [
    "# KNN\n",
    "clf2 = KNeighborsClassifier()\n",
    "clf2.fit(x_train, y_train)"
   ]
  },
  {
   "cell_type": "markdown",
   "id": "5afefded",
   "metadata": {},
   "source": [
    "# Testing the model"
   ]
  },
  {
   "cell_type": "code",
   "execution_count": null,
   "id": "27c6eb9a",
   "metadata": {
    "scrolled": true
   },
   "outputs": [],
   "source": [
    "# Random Forest\n",
    "y_predicted_RF = clf1.predict(x_test)\n",
    "print(\"Random Forest :\")\n",
    "print(\"Accuracy :\", accuracy_score(y_test, y_predicted_RF)*100, \"%\")\n",
    "print(\"F1 Score :\", f1_score(y_test, y_predicted_RF, average='macro')*100, \"%\")"
   ]
  },
  {
   "cell_type": "code",
   "execution_count": null,
   "id": "b80a636e",
   "metadata": {},
   "outputs": [],
   "source": [
    "# KNN\n",
    "y_predicted_KNN = clf2.predict(x_test)\n",
    "print(\"\\nKNN :\")\n",
    "print(\"Accuracy :\", accuracy_score(y_test, y_predicted_KNN)*100, \"%\")\n",
    "print(\"F1 Score :\", f1_score(y_test, y_predicted_KNN, average='macro')*100, \"%\")"
   ]
  },
  {
   "cell_type": "markdown",
   "id": "77864463",
   "metadata": {},
   "source": [
    "# Confusion Matrix"
   ]
  },
  {
   "cell_type": "code",
   "execution_count": null,
   "id": "662dfa0a",
   "metadata": {},
   "outputs": [],
   "source": [
    "# Random Forest\n",
    "print(\"Random Forest :\")\n",
    "print(confusion_matrix(y_test, y_predicted_RF))"
   ]
  },
  {
   "cell_type": "code",
   "execution_count": null,
   "id": "e19bbb86",
   "metadata": {},
   "outputs": [],
   "source": [
    "# KNN\n",
    "print(\"KNN : \")\n",
    "print(confusion_matrix(y_test, y_predicted_KNN))"
   ]
  },
  {
   "cell_type": "markdown",
   "id": "53c45572",
   "metadata": {},
   "source": [
    "# Cross Validation"
   ]
  },
  {
   "cell_type": "code",
   "execution_count": null,
   "id": "1bb55a22",
   "metadata": {
    "scrolled": false
   },
   "outputs": [],
   "source": [
    "# Random Forest\n",
    "print(cross_val_score(clf1, x_train, y_train, cv=3, scoring=\"accuracy\")) "
   ]
  },
  {
   "cell_type": "code",
   "execution_count": null,
   "id": "dd940198",
   "metadata": {},
   "outputs": [],
   "source": [
    "# KNN\n",
    "print(cross_val_score(clf2, x_train, y_train, cv=3, scoring=\"accuracy\"))"
   ]
  },
  {
   "cell_type": "markdown",
   "id": "18e73987",
   "metadata": {},
   "source": [
    "# Testing on Random Image outside Dataset"
   ]
  },
  {
   "cell_type": "code",
   "execution_count": null,
   "id": "4600635f",
   "metadata": {},
   "outputs": [],
   "source": [
    "# taking the path of image for testing as input\n",
    "path = input(\"Enter the path of image :\")\n",
    "\n",
    "# reading the image into variable as grayscale\n",
    "img = cv2.imread(path, cv2.IMREAD_GRAYSCALE) \n",
    "\n",
    "# resizing the image to 28 x 28 shape\n",
    "new_img = cv2.resize(img, (28,28)) \n",
    "\n",
    "# converting the image to numpy array for processing\n",
    "np_img = np.array(new_img) \n",
    "\n",
    "# reshaping the numpy array as our model is trained for 1 x 784 shaped arrays\n",
    "np_img = np_img.reshape((1, 784))\n",
    "\n",
    "# pre-processing done"
   ]
  },
  {
   "cell_type": "code",
   "execution_count": null,
   "id": "28100ce8",
   "metadata": {},
   "outputs": [],
   "source": [
    "# Predicting\n",
    "print(\"Random Forest predicts the digit : \",clf1.predict(np_img))\n",
    "print(\"KNN predicts the digit : \",clf2.predict(np_img))"
   ]
  },
  {
   "cell_type": "code",
   "execution_count": null,
   "id": "f8c4178c",
   "metadata": {
    "scrolled": true
   },
   "outputs": [],
   "source": [
    "# showing the image\n",
    "plt.imshow(np_img.reshape((28,28)))"
   ]
  },
  {
   "cell_type": "code",
   "execution_count": null,
   "id": "34b64f1d",
   "metadata": {},
   "outputs": [],
   "source": [
    "# the probabilities for each digit\n",
    "y_pr1 = clf1.predict_proba(np_img) # Random Forest\n",
    "y_pr2 = clf2.predict_proba(np_img) # KNN\n",
    "print(\"Chances for each digit prediction\")\n",
    "print(\"Digit \\t Random Forest \\t KNN\")\n",
    "for i in range(10):\n",
    "    print(i,\" -> \", int(y_pr1[0][i]*100), \"% \\t\", int(y_pr2[0][i]*100), \"%\")"
   ]
  }
 ],
 "metadata": {
  "kernelspec": {
   "display_name": "Python 3 (ipykernel)",
   "language": "python",
   "name": "python3"
  },
  "language_info": {
   "codemirror_mode": {
    "name": "ipython",
    "version": 3
   },
   "file_extension": ".py",
   "mimetype": "text/x-python",
   "name": "python",
   "nbconvert_exporter": "python",
   "pygments_lexer": "ipython3",
   "version": "3.7.7"
  }
 },
 "nbformat": 4,
 "nbformat_minor": 5
}
